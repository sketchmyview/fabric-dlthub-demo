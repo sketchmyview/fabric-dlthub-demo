{
 "cells": [
  {
   "cell_type": "markdown",
   "id": "e607acc1-0083-46d8-bacb-453823755b91",
   "metadata": {
    "microsoft": {
     "language": "python",
     "language_group": "jupyter_python"
    },
    "nteract": {
     "transient": {
      "deleting": false
     }
    }
   },
   "source": [
    "##### This Notebook loads csv files from lakehouse, run sql analytics query using duckdb and saves into MotherDuck\n",
    "\n",
    "##### Azure KeyVault has MotherDuck token that allows to authenticate, create a table and loads aggregated data into MotherDuck\n",
    "\n",
    "##### Make sure you have a KeyVault created and a secret called mdtoken has been added"
   ]
  },
  {
   "cell_type": "code",
   "execution_count": null,
   "id": "c8b1eb18-9b4d-4d22-9a41-2cbe939d6113",
   "metadata": {
    "microsoft": {
     "language": "python",
     "language_group": "jupyter_python"
    }
   },
   "outputs": [],
   "source": [
    "!pip install panda"
   ]
  },
  {
   "cell_type": "code",
   "execution_count": null,
   "id": "f0ef2567-9f4e-4268-9cfc-1223d8220e6a",
   "metadata": {
    "microsoft": {
     "language": "python",
     "language_group": "jupyter_python"
    }
   },
   "outputs": [],
   "source": [
    "!pip install dlt"
   ]
  },
  {
   "cell_type": "code",
   "execution_count": null,
   "id": "db7a0435-3d33-43e8-b9a2-8b1305ad0890",
   "metadata": {
    "microsoft": {
     "language": "python",
     "language_group": "jupyter_python"
    }
   },
   "outputs": [],
   "source": [
    "import os\n",
    "import dlt\n",
    "import requests\n",
    "import duckdb"
   ]
  },
  {
   "cell_type": "code",
   "execution_count": null,
   "id": "7e24a689-3da5-448a-bc80-a741995de4c6",
   "metadata": {
    "microsoft": {
     "language": "python",
     "language_group": "jupyter_python"
    }
   },
   "outputs": [],
   "source": [
    "md_token = notebookutils.credentials.getSecret(\"https://<akv name>.vault.azure.net/\", \"mdtoken\")"
   ]
  },
  {
   "cell_type": "code",
   "execution_count": null,
   "id": "b8750adc-4e74-4782-a84c-9fbcc982410c",
   "metadata": {
    "microsoft": {
     "language": "python",
     "language_group": "jupyter_python"
    }
   },
   "outputs": [],
   "source": [
    "conn = duckdb.connect(f'md:?motherduck_token={md_token}')"
   ]
  },
  {
   "cell_type": "code",
   "execution_count": null,
   "id": "284c4133-690b-4435-8cb1-d044538532c6",
   "metadata": {
    "microsoft": {
     "language": "python",
     "language_group": "jupyter_python"
    }
   },
   "outputs": [],
   "source": [
    "os.environ[\"DESTINATION__MOTHERDUCK__CREDENTIALS__PASSWORD\"] = md_token"
   ]
  },
  {
   "cell_type": "markdown",
   "id": "917f1485-14b1-4ee5-991b-6811c29cbd3c",
   "metadata": {
    "microsoft": {
     "language": "python",
     "language_group": "jupyter_python"
    },
    "nteract": {
     "transient": {
      "deleting": false
     }
    }
   },
   "source": [
    "##### dltHub pipeline creates csv files with gzip compression enabled which is better for performance"
   ]
  },
  {
   "cell_type": "code",
   "execution_count": null,
   "id": "319dcefc-d958-425e-8d87-ab7cafe46f84",
   "metadata": {
    "microsoft": {
     "language": "python",
     "language_group": "jupyter_python"
    }
   },
   "outputs": [],
   "source": [
    "options = {\n",
    "            'header': True,\n",
    "            'sep': \",\",\n",
    "            'compression': \"gzip\"\n",
    "          }\n",
    "\n",
    "options_str = ', '.join(f'{key}={repr(value)}' for key, value in options.items())\n",
    "\n",
    "file_path = \"/lakehouse/default/Files/load_raw_breaches_dataset/breaches/*.csv\"\n",
    "\n",
    "query = f\"\"\"\n",
    "                SELECT domain\n",
    "                       ,total_breaches\n",
    "                FROM (\n",
    "                        SELECT COALESCE(domain, 'unknown') as domain,\n",
    "                               COUNT(*) as total_breaches \n",
    "                        FROM read_csv_auto('{file_path}', {options_str})\n",
    "                        GROUP BY domain\n",
    "                )\n",
    "                WHERE total_breaches > 1\n",
    "            \"\"\""
   ]
  },
  {
   "cell_type": "code",
   "execution_count": null,
   "id": "9743bb1d-0907-4028-a25b-e15a62bd8f01",
   "metadata": {
    "microsoft": {
     "language": "python",
     "language_group": "jupyter_python"
    }
   },
   "outputs": [],
   "source": [
    "import duckdb\n",
    "import pandas as pd\n",
    "import json\n",
    "\n",
    "@dlt.resource(write_disposition=\"replace\")\n",
    "def fetch_data():\n",
    "    df = conn.execute(query).fetchdf()\n",
    "    json_data = df.to_json(orient='records')\n",
    "    json_list = json.loads(json_data)\n",
    "    yield json_list\n",
    "\n",
    "pipeline = dlt.pipeline(\n",
    "    pipeline_name=\"quick_start\",\n",
    "    destination=\"motherduck\",\n",
    "    dataset_name=\"mydata\"\n",
    ")\n",
    "\n",
    "load_info = pipeline.run(fetch_data(), table_name=\"breachesanalytics\")\n",
    "\n",
    "conn.close()\n",
    "\n",
    "print(load_info)"
   ]
  },
  {
   "cell_type": "code",
   "execution_count": null,
   "id": "34e5a4f2-91aa-4a19-aa75-fd639af08b8f",
   "metadata": {
    "microsoft": {
     "language": "python",
     "language_group": "jupyter_python"
    }
   },
   "outputs": [],
   "source": [
    "print(pipeline.last_trace)"
   ]
  }
 ],
 "metadata": {
  "dependencies": {
   "lakehouse": {
    "default_lakehouse": "a23858b2-7a2b-47f5-b506-6f0ddca2f788",
    "default_lakehouse_name": "dlthublh",
    "default_lakehouse_workspace_id": "e8176af3-4fa5-4868-ad48-6fc345585233"
   }
  },
  "kernel_info": {
   "jupyter_kernel_name": "python3.11",
   "name": "jupyter"
  },
  "kernelspec": {
   "display_name": "Jupyter",
   "language": "Jupyter",
   "name": "jupyter"
  },
  "language_info": {
   "name": "python"
  },
  "microsoft": {
   "language": "python",
   "language_group": "jupyter_python",
   "ms_spell_check": {
    "ms_spell_check_language": "en"
   }
  },
  "nteract": {
   "version": "nteract-front-end@1.0.0"
  },
  "spark_compute": {
   "compute_id": "/trident/default",
   "session_options": {
    "conf": {
     "spark.synapse.nbs.session.timeout": "1200000"
    }
   }
  }
 },
 "nbformat": 4,
 "nbformat_minor": 5
}
